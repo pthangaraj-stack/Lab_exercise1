{
  "nbformat": 4,
  "nbformat_minor": 0,
  "metadata": {
    "kernelspec": {
      "display_name": "Python 3",
      "language": "python",
      "name": "python3"
    },
    "language_info": {
      "codemirror_mode": {
        "name": "ipython",
        "version": 3
      },
      "file_extension": ".py",
      "mimetype": "text/x-python",
      "name": "python",
      "nbconvert_exporter": "python",
      "pygments_lexer": "ipython3",
      "version": "3.7.3"
    },
    "colab": {
      "name": "PS_Numpy_Exercise_Batch8.ipynb",
      "provenance": [],
      "collapsed_sections": [],
      "include_colab_link": true
    }
  },
  "cells": [
    {
      "cell_type": "markdown",
      "metadata": {
        "id": "view-in-github",
        "colab_type": "text"
      },
      "source": [
        "<a href=\"https://colab.research.google.com/github/pthangaraj-stack/Lab_exercise1/blob/main/PS_Numpy_Exercise_Batch8.ipynb\" target=\"_parent\"><img src=\"https://colab.research.google.com/assets/colab-badge.svg\" alt=\"Open In Colab\"/></a>"
      ]
    },
    {
      "cell_type": "markdown",
      "metadata": {
        "id": "nqJMD3AH36qX"
      },
      "source": [
        "# Numpy Exercise  <img src = \"numpy1.png\">\n",
        "###### Authored by T.K.Senthil Kumar"
      ]
    },
    {
      "cell_type": "code",
      "metadata": {
        "id": "AQcH59EK_YtS"
      },
      "source": [
        "import numpy as np"
      ],
      "execution_count": 2,
      "outputs": []
    },
    {
      "cell_type": "markdown",
      "metadata": {
        "id": "yzer1oSD36qb"
      },
      "source": [
        "#### 1. Create a numpy array with the number of elements equals your age. The value of array elements is a random number between 10 to your age "
      ]
    },
    {
      "cell_type": "code",
      "metadata": {
        "colab": {
          "base_uri": "https://localhost:8080/"
        },
        "id": "s68kvC6o36qc",
        "outputId": "b689ff2c-b561-402a-9f68-e7ccffb92769"
      },
      "source": [
        "#Solution\n",
        "\n",
        "np.arange(10,30)\n",
        "\n",
        "np.random.randint(10, 30, 30)"
      ],
      "execution_count": 3,
      "outputs": [
        {
          "output_type": "execute_result",
          "data": {
            "text/plain": [
              "array([21, 20, 21, 28, 24, 22, 16, 14, 28, 11, 10, 25, 11, 27, 24, 28, 19,\n",
              "       10, 14, 14, 22, 20, 25, 23, 27, 19, 26, 18, 29, 16])"
            ]
          },
          "metadata": {},
          "execution_count": 3
        }
      ]
    },
    {
      "cell_type": "markdown",
      "metadata": {
        "id": "bs_N-Pgn36qd"
      },
      "source": [
        "#### 2. Create a numpy array between 1 to 50 with the span(space) of 2 and print the length of the array"
      ]
    },
    {
      "cell_type": "code",
      "metadata": {
        "colab": {
          "base_uri": "https://localhost:8080/"
        },
        "id": "nlFe8zu536qd",
        "outputId": "879b3aeb-064b-4bee-9f80-f7036837415a"
      },
      "source": [
        "# Solution\n",
        "\n",
        "\n",
        "arr1=np.arange(1, 51, 2)\n",
        "print(arr1)\n",
        "print('Length:', len(arr1))"
      ],
      "execution_count": 4,
      "outputs": [
        {
          "output_type": "stream",
          "name": "stdout",
          "text": [
            "[ 1  3  5  7  9 11 13 15 17 19 21 23 25 27 29 31 33 35 37 39 41 43 45 47\n",
            " 49]\n",
            "Length: 25\n"
          ]
        }
      ]
    },
    {
      "cell_type": "markdown",
      "metadata": {
        "id": "YcuvrL2O36qe"
      },
      "source": [
        "#### 3. Create an equally spaced numpy array with 27 elements between 4 and 7 "
      ]
    },
    {
      "cell_type": "code",
      "metadata": {
        "colab": {
          "base_uri": "https://localhost:8080/"
        },
        "id": "-OFs2pi536qe",
        "outputId": "879a102b-5edf-404b-e4b3-f88e243a8ecd"
      },
      "source": [
        "# Solution\n",
        "\n",
        "\n",
        "np.linspace(4,7,27)"
      ],
      "execution_count": 5,
      "outputs": [
        {
          "output_type": "execute_result",
          "data": {
            "text/plain": [
              "array([4.        , 4.11538462, 4.23076923, 4.34615385, 4.46153846,\n",
              "       4.57692308, 4.69230769, 4.80769231, 4.92307692, 5.03846154,\n",
              "       5.15384615, 5.26923077, 5.38461538, 5.5       , 5.61538462,\n",
              "       5.73076923, 5.84615385, 5.96153846, 6.07692308, 6.19230769,\n",
              "       6.30769231, 6.42307692, 6.53846154, 6.65384615, 6.76923077,\n",
              "       6.88461538, 7.        ])"
            ]
          },
          "metadata": {},
          "execution_count": 5
        }
      ]
    },
    {
      "cell_type": "markdown",
      "metadata": {
        "id": "K92GHF-e36qe"
      },
      "source": [
        "#### 4. Create a matrix of size (5 x 4) with random numbers and round off the each elements by only 2 fractional points."
      ]
    },
    {
      "cell_type": "code",
      "metadata": {
        "id": "mAoaJ3gX36qf",
        "colab": {
          "base_uri": "https://localhost:8080/"
        },
        "outputId": "376984c0-5e2f-4429-cae1-67d1259ba0ad"
      },
      "source": [
        "# Solution\n",
        "arr = np.random.randint(10, size=(5,4))\n",
        "\n",
        "print(arr)"
      ],
      "execution_count": 6,
      "outputs": [
        {
          "output_type": "stream",
          "name": "stdout",
          "text": [
            "[[2 9 1 8]\n",
            " [9 2 4 0]\n",
            " [9 8 5 6]\n",
            " [1 4 5 7]\n",
            " [7 7 3 1]]\n"
          ]
        }
      ]
    },
    {
      "cell_type": "markdown",
      "metadata": {
        "id": "_DInIWds36qh"
      },
      "source": [
        "#### 5. Create a matrix of size (5x5) with random integers between 5 to 15"
      ]
    },
    {
      "cell_type": "code",
      "metadata": {
        "id": "tLuqwHKJ36qi",
        "colab": {
          "base_uri": "https://localhost:8080/"
        },
        "outputId": "0831e0da-eb36-4e41-f051-e511908bad0c"
      },
      "source": [
        "# Solution\n",
        "\n",
        "arr = np.random.randint(5, 16, size=(5,5))\n",
        "\n",
        "print(arr)\n"
      ],
      "execution_count": 7,
      "outputs": [
        {
          "output_type": "stream",
          "name": "stdout",
          "text": [
            "[[11  8  7  8  6]\n",
            " [14 10  6 11  5]\n",
            " [10  5 14  7  9]\n",
            " [ 9  7 10 15 11]\n",
            " [ 5 14  7 11  7]]\n"
          ]
        }
      ]
    },
    {
      "cell_type": "markdown",
      "metadata": {
        "id": "KpjKtdXN36qj"
      },
      "source": [
        "#### 6. Create the one dimensional array of zeros of random length below 20 with the data type int32"
      ]
    },
    {
      "cell_type": "code",
      "metadata": {
        "id": "iYxiyKf336qk",
        "colab": {
          "base_uri": "https://localhost:8080/"
        },
        "outputId": "5ade685e-aff3-4f6a-f563-47a53317a867"
      },
      "source": [
        "# Solution\n",
        "\n",
        "arr1 = np.zeros((20-1,), dtype=int)\n",
        "\n",
        "print(arr1)\n"
      ],
      "execution_count": 8,
      "outputs": [
        {
          "output_type": "stream",
          "name": "stdout",
          "text": [
            "[0 0 0 0 0 0 0 0 0 0 0 0 0 0 0 0 0 0 0]\n"
          ]
        }
      ]
    },
    {
      "cell_type": "markdown",
      "metadata": {
        "id": "jg7-5zXw36ql"
      },
      "source": [
        "#### 7. Create a two dimensional array of ones of random row and column lengths with the data type of float32 "
      ]
    },
    {
      "cell_type": "code",
      "metadata": {
        "id": "z1Q6mYAt36ql",
        "colab": {
          "base_uri": "https://localhost:8080/"
        },
        "outputId": "36618813-22c8-469d-85d2-30744c8216e8"
      },
      "source": [
        "# Solution\n",
        "\n",
        "\n",
        "np.ones((2, 5), dtype=float)"
      ],
      "execution_count": 9,
      "outputs": [
        {
          "output_type": "execute_result",
          "data": {
            "text/plain": [
              "array([[1., 1., 1., 1., 1.],\n",
              "       [1., 1., 1., 1., 1.]])"
            ]
          },
          "metadata": {},
          "execution_count": 9
        }
      ]
    },
    {
      "cell_type": "markdown",
      "metadata": {
        "id": "MVSVMy7I36qm"
      },
      "source": [
        "#### 8. Create a matrix exactly as same as shown below and print its shape, type and dtype\n",
        "<img src = \"np_mat1.png\">"
      ]
    },
    {
      "cell_type": "code",
      "metadata": {
        "id": "j90-btLv36qn",
        "colab": {
          "base_uri": "https://localhost:8080/"
        },
        "outputId": "823839b0-03be-4532-8c7d-13b937c9f4dc"
      },
      "source": [
        "# Solution\n",
        "\n",
        "\n",
        "arr= np.array([[9, 25, 50, 34, 45], [3, 34, 34, 65, 2], [5, 7, 3, 76, 3], [7, 8, 6, 54, 6], [23, 12, 8, 5, 8]])\n",
        "print(arr)\n"
      ],
      "execution_count": 10,
      "outputs": [
        {
          "output_type": "stream",
          "name": "stdout",
          "text": [
            "[[ 9 25 50 34 45]\n",
            " [ 3 34 34 65  2]\n",
            " [ 5  7  3 76  3]\n",
            " [ 7  8  6 54  6]\n",
            " [23 12  8  5  8]]\n"
          ]
        }
      ]
    },
    {
      "cell_type": "markdown",
      "metadata": {
        "id": "J-TxXKZj36qn"
      },
      "source": [
        "#### 9. Access the center pixel of the matrix defined in the question no 8 ( Don't enter the row and column index explicitely)"
      ]
    },
    {
      "cell_type": "code",
      "metadata": {
        "id": "wQES7XiR36qn"
      },
      "source": [
        "# Solution\n",
        "\n",
        "\n"
      ],
      "execution_count": 11,
      "outputs": []
    },
    {
      "cell_type": "markdown",
      "metadata": {
        "id": "Kd48jmfP36qo"
      },
      "source": [
        "#### 10. Print the all the elements of 3rd row of the matrix"
      ]
    },
    {
      "cell_type": "code",
      "metadata": {
        "id": "np8G5Cib36qp",
        "colab": {
          "base_uri": "https://localhost:8080/"
        },
        "outputId": "426232fa-6b92-4071-adac-4b5eab701d9d"
      },
      "source": [
        "# Solution\n",
        "\n",
        "arr[2, 0:5]\n"
      ],
      "execution_count": 12,
      "outputs": [
        {
          "output_type": "execute_result",
          "data": {
            "text/plain": [
              "array([ 5,  7,  3, 76,  3])"
            ]
          },
          "metadata": {},
          "execution_count": 12
        }
      ]
    },
    {
      "cell_type": "markdown",
      "metadata": {
        "id": "YsKSWz3536qp"
      },
      "source": [
        "#### 11. Print the all the elements of 4th columns of the matrix"
      ]
    },
    {
      "cell_type": "code",
      "metadata": {
        "id": "hTbPSeia36qp",
        "colab": {
          "base_uri": "https://localhost:8080/"
        },
        "outputId": "3f6efbaf-4dd6-4ad6-a821-16cd188bdb21"
      },
      "source": [
        "# Solution\n",
        "\n",
        "arr[0:5, 3]\n"
      ],
      "execution_count": 13,
      "outputs": [
        {
          "output_type": "execute_result",
          "data": {
            "text/plain": [
              "array([34, 65, 76, 54,  5])"
            ]
          },
          "metadata": {},
          "execution_count": 13
        }
      ]
    },
    {
      "cell_type": "markdown",
      "metadata": {
        "id": "CBqR8kUA36qq"
      },
      "source": [
        "#### 12. Print the 4 corner pixels of the matrix"
      ]
    },
    {
      "cell_type": "code",
      "metadata": {
        "id": "5r2dgSe836qr",
        "colab": {
          "base_uri": "https://localhost:8080/"
        },
        "outputId": "d792f013-5909-44be-be77-10df641f7efb"
      },
      "source": [
        "# Solution\n",
        "\n",
        "print(arr)\n",
        "\n"
      ],
      "execution_count": 14,
      "outputs": [
        {
          "output_type": "stream",
          "name": "stdout",
          "text": [
            "[[ 9 25 50 34 45]\n",
            " [ 3 34 34 65  2]\n",
            " [ 5  7  3 76  3]\n",
            " [ 7  8  6 54  6]\n",
            " [23 12  8  5  8]]\n"
          ]
        }
      ]
    },
    {
      "cell_type": "markdown",
      "metadata": {
        "id": "YTft4oba36qr"
      },
      "source": [
        "#### 13. Create three matrix m1,m2,m3 with the elements grouped in the figure below\n",
        "<img src = \"np_mat2.png\">"
      ]
    },
    {
      "cell_type": "code",
      "metadata": {
        "id": "3t_eituv36qr",
        "colab": {
          "base_uri": "https://localhost:8080/"
        },
        "outputId": "80430d8f-151c-47ed-9ac4-d5d8e699d02a"
      },
      "source": [
        "# Solution \n",
        "\n",
        "arr= np.array([[9, 25, 50, 34, 45], [3, 34, 34, 65, 2], [5, 7, 3, 76, 3], [7, 8, 6, 54, 6], [23, 12, 8, 5, 8]])\n",
        "\n",
        "\n",
        "arr\n",
        "\n",
        "m1=arr[0:2, 2:4]\n",
        "print('array m1\\n', m1)\n",
        "\n",
        "print('\\n')\n",
        "\n",
        "m2=arr[3:6, 0:2]\n",
        "print('array m2\\n', m2)\n",
        "\n",
        "print('\\n')\n",
        "\n",
        "m3=arr[2:6, 2:6]\n",
        "print('array m3\\n', m3)"
      ],
      "execution_count": 15,
      "outputs": [
        {
          "output_type": "stream",
          "name": "stdout",
          "text": [
            "array m1\n",
            " [[50 34]\n",
            " [34 65]]\n",
            "\n",
            "\n",
            "array m2\n",
            " [[ 7  8]\n",
            " [23 12]]\n",
            "\n",
            "\n",
            "array m3\n",
            " [[ 3 76  3]\n",
            " [ 6 54  6]\n",
            " [ 8  5  8]]\n"
          ]
        }
      ]
    },
    {
      "cell_type": "markdown",
      "metadata": {
        "id": "M-3no_5z36qr"
      },
      "source": [
        "#### 14. Reshape all the three matrix segmented in the above task in to three  1-dimensional vector."
      ]
    },
    {
      "cell_type": "code",
      "metadata": {
        "id": "wZSj97sn36qs",
        "colab": {
          "base_uri": "https://localhost:8080/"
        },
        "outputId": "c4a9de03-31e1-48ea-c214-919d884a94e8"
      },
      "source": [
        "# Solution\n",
        "\n",
        "m1 = m1.reshape(1, 4)\n",
        "print('array m1: ', m1)\n",
        "\n",
        "print('\\n')\n",
        "\n",
        "m2 = m2.reshape(1, 4)\n",
        "print('array m2: ', m2)\n",
        "\n",
        "print('\\n')\n",
        "\n",
        "m3 = m3.reshape(1, 9)\n",
        "print('array m3: ', m3)"
      ],
      "execution_count": 16,
      "outputs": [
        {
          "output_type": "stream",
          "name": "stdout",
          "text": [
            "array m1:  [[50 34 34 65]]\n",
            "\n",
            "\n",
            "array m2:  [[ 7  8 23 12]]\n",
            "\n",
            "\n",
            "array m3:  [[ 3 76  3  6 54  6  8  5  8]]\n"
          ]
        }
      ]
    },
    {
      "cell_type": "markdown",
      "metadata": {
        "id": "BjDR6y9636qs"
      },
      "source": [
        "#### 15. Concatenate the matrix m1 and m2 in both vertical and horizontal direction"
      ]
    },
    {
      "cell_type": "code",
      "metadata": {
        "id": "Tlejok1S36qs",
        "colab": {
          "base_uri": "https://localhost:8080/"
        },
        "outputId": "2a550d5e-c80e-422f-f6b3-576487d67ac4"
      },
      "source": [
        "# Solution\n",
        "\n",
        "\n",
        "ar=np.concatenate((m1, m2), axis=0)\n",
        "ar.T"
      ],
      "execution_count": 17,
      "outputs": [
        {
          "output_type": "execute_result",
          "data": {
            "text/plain": [
              "array([[50,  7],\n",
              "       [34,  8],\n",
              "       [34, 23],\n",
              "       [65, 12]])"
            ]
          },
          "metadata": {},
          "execution_count": 17
        }
      ]
    },
    {
      "cell_type": "markdown",
      "metadata": {
        "id": "la23B1Cb36qt"
      },
      "source": [
        "#### 16. Add, Subtract, multiply, divide the matrixes m1 and m2"
      ]
    },
    {
      "cell_type": "code",
      "metadata": {
        "id": "lW9cNOIN36qt",
        "colab": {
          "base_uri": "https://localhost:8080/"
        },
        "outputId": "fa4b4cc6-e923-4009-bf05-09077af6688d"
      },
      "source": [
        "# Solution\n",
        "\n",
        "\n",
        "print('array m1: ', m1)\n",
        "print('\\n')\n",
        "print('array m2: ', m2)\n",
        "\n"
      ],
      "execution_count": 18,
      "outputs": [
        {
          "output_type": "stream",
          "name": "stdout",
          "text": [
            "array m1:  [[50 34 34 65]]\n",
            "\n",
            "\n",
            "array m2:  [[ 7  8 23 12]]\n"
          ]
        }
      ]
    },
    {
      "cell_type": "markdown",
      "metadata": {
        "id": "-Pc2sBHz36qt"
      },
      "source": [
        "#### 17. Add the m1 with m3 by removing the first row and last column of m3"
      ]
    },
    {
      "cell_type": "code",
      "metadata": {
        "id": "BMFq3JbEw0wn"
      },
      "source": [
        "arr= np.array([[9, 25, 50, 34, 45], [3, 34, 34, 65, 2], [5, 7, 3, 76, 3], [7, 8, 6, 54, 6], [23, 12, 8, 5, 8]])"
      ],
      "execution_count": 19,
      "outputs": []
    },
    {
      "cell_type": "code",
      "metadata": {
        "colab": {
          "base_uri": "https://localhost:8080/"
        },
        "id": "6r0RjjfAw81K",
        "outputId": "ccdd3139-d839-4614-983f-d75335bb5d7e"
      },
      "source": [
        "m1=arr[0:2, 2:4]\n",
        "print('array m1\\n', m1)"
      ],
      "execution_count": 20,
      "outputs": [
        {
          "output_type": "stream",
          "name": "stdout",
          "text": [
            "array m1\n",
            " [[50 34]\n",
            " [34 65]]\n"
          ]
        }
      ]
    },
    {
      "cell_type": "code",
      "metadata": {
        "colab": {
          "base_uri": "https://localhost:8080/"
        },
        "id": "7494uOeXxcIC",
        "outputId": "9e5dcb3d-c36d-4bfb-b7d2-1fc2c4ba3638"
      },
      "source": [
        "m3=arr[2:6, 2:6]\n",
        "print('array m3\\n', m3)"
      ],
      "execution_count": 21,
      "outputs": [
        {
          "output_type": "stream",
          "name": "stdout",
          "text": [
            "array m3\n",
            " [[ 3 76  3]\n",
            " [ 6 54  6]\n",
            " [ 8  5  8]]\n"
          ]
        }
      ]
    },
    {
      "cell_type": "code",
      "metadata": {
        "colab": {
          "base_uri": "https://localhost:8080/"
        },
        "id": "5VYdjCqCw_XU",
        "outputId": "bf35632e-af5f-4f89-b1cf-6e66e3013b9e"
      },
      "source": [
        "# Solution\n",
        "\n",
        "m1=arr[0:2, 2:4]\n",
        "print('array m1\\n', m1)\n",
        "\n",
        "print('\\n')\n",
        "\n",
        "m3=arr[2:6, 2:6]\n",
        "\n",
        "m3=m3[1:, :2]\n",
        "print('array m3\\n', m3)\n",
        "\n",
        "print('\\n')\n",
        "\n",
        "# Perform addition\n",
        "print('sum of 2 array: \\n', m1+m3)"
      ],
      "execution_count": 22,
      "outputs": [
        {
          "output_type": "stream",
          "name": "stdout",
          "text": [
            "array m1\n",
            " [[50 34]\n",
            " [34 65]]\n",
            "\n",
            "\n",
            "array m3\n",
            " [[ 6 54]\n",
            " [ 8  5]]\n",
            "\n",
            "\n",
            "sum of 2 array: \n",
            " [[56 88]\n",
            " [42 70]]\n"
          ]
        }
      ]
    },
    {
      "cell_type": "markdown",
      "metadata": {
        "id": "1G6k2VpT36qt"
      },
      "source": [
        "#### 18. Form the matrix m4 by concatenating (as a new row) the vector [me1, me2] with the matrix m1, where me1 and me2 are the mean values of each column on m1."
      ]
    },
    {
      "cell_type": "code",
      "metadata": {
        "id": "quro86go36qu",
        "colab": {
          "base_uri": "https://localhost:8080/"
        },
        "outputId": "7c048257-d131-47c2-92be-224599b96605"
      },
      "source": [
        "# Solution\n",
        "\n",
        "m1=arr[0:2, 2:4]\n",
        "print('array m1\\n', m1)\n",
        "\n",
        "print('\\n')\n",
        "\n",
        "me1 = m1.mean()\n",
        "print('Mean of me1: ', me1)\n",
        "\n",
        "print('\\n')\n",
        "\n",
        "m2=arr[3:6, 0:2]\n",
        "print('array m2\\n', m2)\n",
        "\n",
        "print('\\n')\n",
        "\n",
        "me2 = m2.mean()\n",
        "print('Mean of me2: ', me2)\n",
        "\n",
        "print('\\n')\n",
        "\n",
        "me = np.array([me1, me2])\n",
        "print('me: \\n', me)\n",
        "\n",
        "print('\\n')\n",
        "\n",
        "m4 = np.array([[me1, me2]])\n",
        "m4 = np.concatenate((m1, m4), axis=0)\n",
        "m4"
      ],
      "execution_count": 23,
      "outputs": [
        {
          "output_type": "stream",
          "name": "stdout",
          "text": [
            "array m1\n",
            " [[50 34]\n",
            " [34 65]]\n",
            "\n",
            "\n",
            "Mean of me1:  45.75\n",
            "\n",
            "\n",
            "array m2\n",
            " [[ 7  8]\n",
            " [23 12]]\n",
            "\n",
            "\n",
            "Mean of me2:  12.5\n",
            "\n",
            "\n",
            "me: \n",
            " [45.75 12.5 ]\n",
            "\n",
            "\n"
          ]
        },
        {
          "output_type": "execute_result",
          "data": {
            "text/plain": [
              "array([[50.  , 34.  ],\n",
              "       [34.  , 65.  ],\n",
              "       [45.75, 12.5 ]])"
            ]
          },
          "metadata": {},
          "execution_count": 23
        }
      ]
    },
    {
      "cell_type": "markdown",
      "metadata": {
        "id": "LHyjhwIX36qu"
      },
      "source": [
        "#### 19. Perform the matrix multiplication between m3 and m4"
      ]
    },
    {
      "cell_type": "code",
      "metadata": {
        "id": "Ixq1iv_r36qv",
        "colab": {
          "base_uri": "https://localhost:8080/"
        },
        "outputId": "ba0b015b-0ddc-4c22-8fd6-a3c591fb6306"
      },
      "source": [
        "# Solution\n",
        "\n",
        "print('array m3\\n', m3)\n",
        "\n",
        "print('array m4\\n', m4)\n",
        "\n",
        "result = np.dot(m4, m3)\n",
        "print('\\n')\n",
        "\n",
        "print('Matrix multiplication Result: \\n', result)"
      ],
      "execution_count": 24,
      "outputs": [
        {
          "output_type": "stream",
          "name": "stdout",
          "text": [
            "array m3\n",
            " [[ 6 54]\n",
            " [ 8  5]]\n",
            "array m4\n",
            " [[50.   34.  ]\n",
            " [34.   65.  ]\n",
            " [45.75 12.5 ]]\n",
            "\n",
            "\n",
            "Matrix multiplication Result: \n",
            " [[ 572.  2870. ]\n",
            " [ 724.  2161. ]\n",
            " [ 374.5 2533. ]]\n"
          ]
        }
      ]
    },
    {
      "cell_type": "markdown",
      "metadata": {
        "id": "xEvHi7Am36qw"
      },
      "source": [
        "#### 20. Compute the maximum and minimum value of mean, variance, standard deviation for each row of matrix created in question number 8."
      ]
    },
    {
      "cell_type": "code",
      "metadata": {
        "colab": {
          "base_uri": "https://localhost:8080/"
        },
        "id": "1lC7y4XGp8Gq",
        "outputId": "dfc733d1-c90a-47e4-c115-3c2de8894de4"
      },
      "source": [
        "arr= np.array([[9, 25, 50, 34, 45], [3, 34, 34, 65, 2], [5, 7, 3, 76, 3], [7, 8, 6, 54, 6], [23, 12, 8, 5, 8]])\n",
        "print(arr)"
      ],
      "execution_count": 25,
      "outputs": [
        {
          "output_type": "stream",
          "name": "stdout",
          "text": [
            "[[ 9 25 50 34 45]\n",
            " [ 3 34 34 65  2]\n",
            " [ 5  7  3 76  3]\n",
            " [ 7  8  6 54  6]\n",
            " [23 12  8  5  8]]\n"
          ]
        }
      ]
    },
    {
      "cell_type": "code",
      "metadata": {
        "id": "SFVNe_HJ36qw",
        "colab": {
          "base_uri": "https://localhost:8080/"
        },
        "outputId": "41ad1d98-812a-4b43-8d41-4be53594c8fe"
      },
      "source": [
        "# Solution\n",
        "print('Mean (0): ', arr.mean(0))\n",
        "\n",
        "print('Mean (1): ', arr.mean(1))\n",
        "\n",
        "print('Variance: ', arr.var())\n",
        "\n",
        "print('Variance: ', arr.var())\n",
        "\n",
        "print('Standard Deviation: ', arr.std())"
      ],
      "execution_count": 26,
      "outputs": [
        {
          "output_type": "stream",
          "name": "stdout",
          "text": [
            "Mean (0):  [ 9.4 17.2 20.2 46.8 12.8]\n",
            "Mean (1):  [32.6 27.6 18.8 16.2 11.2]\n",
            "Variance:  456.44159999999994\n",
            "Variance:  456.44159999999994\n",
            "Standard Deviation:  21.364493909287905\n"
          ]
        }
      ]
    },
    {
      "cell_type": "markdown",
      "metadata": {
        "id": "1plwADa936qw"
      },
      "source": [
        "#### 21. Compute the average and strike rate for each player and sort it decending way (seperately for avg and strike rate)\n",
        "<img src = 'crick1.png'>"
      ]
    },
    {
      "cell_type": "code",
      "metadata": {
        "colab": {
          "base_uri": "https://localhost:8080/"
        },
        "id": "3Grm9YGDsQld",
        "outputId": "5aa442f1-68f8-49bb-bd54-a6dc03375f41"
      },
      "source": [
        "runs_arr= np.array([[54, 60, 10, 65], [102, 2, 78, 32], [3, 110, 1, 92], [56, 6, 12, 42], [12, 8, 22, 11]])\n",
        "runs_arr"
      ],
      "execution_count": 27,
      "outputs": [
        {
          "output_type": "execute_result",
          "data": {
            "text/plain": [
              "array([[ 54,  60,  10,  65],\n",
              "       [102,   2,  78,  32],\n",
              "       [  3, 110,   1,  92],\n",
              "       [ 56,   6,  12,  42],\n",
              "       [ 12,   8,  22,  11]])"
            ]
          },
          "metadata": {},
          "execution_count": 27
        }
      ]
    },
    {
      "cell_type": "code",
      "metadata": {
        "colab": {
          "base_uri": "https://localhost:8080/"
        },
        "id": "i90gLEdbsxT7",
        "outputId": "8c049ece-90c8-44d5-8702-ca5c6d9f4bad"
      },
      "source": [
        "balls_arr= np.array([[50, 42, 22, 78], [95, 8, 65, 43], [9, 100, 7, 101], [27, 3, 11, 31], [24, 20, 36, 27]])\n",
        "balls_arr"
      ],
      "execution_count": 28,
      "outputs": [
        {
          "output_type": "execute_result",
          "data": {
            "text/plain": [
              "array([[ 50,  42,  22,  78],\n",
              "       [ 95,   8,  65,  43],\n",
              "       [  9, 100,   7, 101],\n",
              "       [ 27,   3,  11,  31],\n",
              "       [ 24,  20,  36,  27]])"
            ]
          },
          "metadata": {},
          "execution_count": 28
        }
      ]
    },
    {
      "cell_type": "code",
      "metadata": {
        "id": "DoW1mcsz36qx",
        "colab": {
          "base_uri": "https://localhost:8080/"
        },
        "outputId": "cd3196c6-23fc-4ecb-d109-eff87922f594"
      },
      "source": [
        "# Solution \n",
        "total_runs_arr = runs_arr.sum(axis=1)\n",
        "print('Total runs by players: ', total_runs_arr)\n",
        "total_balls_arr = balls_arr.sum(axis=1)\n",
        "print('Total balled faced by players: ', total_balls_arr)\n",
        "\n",
        "strike_arr = (total_runs_arr/total_balls_arr)*100\n",
        "print('strike rate of players: ', strike_arr)\n",
        "\n",
        "array_copy = np.sort(strike_arr)[::-1]\n",
        "print('Players decending-order based on strike rate: ', array_copy)\n",
        "\n",
        "print('Players average: ', total_runs_arr.mean(axis=0))"
      ],
      "execution_count": 29,
      "outputs": [
        {
          "output_type": "stream",
          "name": "stdout",
          "text": [
            "Total runs by players:  [189 214 206 116  53]\n",
            "Total balled faced by players:  [192 211 217  72 107]\n",
            "strike rate of players:  [ 98.4375     101.42180095  94.93087558 161.11111111  49.53271028]\n",
            "Players decending-order based on strike rate:  [161.11111111 101.42180095  98.4375      94.93087558  49.53271028]\n",
            "Players average:  155.6\n"
          ]
        }
      ]
    },
    {
      "cell_type": "markdown",
      "metadata": {
        "id": "nBvpG0Lz36qx"
      },
      "source": [
        "#### 22. The students mark was recorded in a numpy array: marks = np.array([65,84,47,56,89,98,48,77,80,39]).  Cutoff for pass is 50 marks. Write the logic to print the number of students passed and failed. "
      ]
    },
    {
      "cell_type": "code",
      "metadata": {
        "id": "YGqmbQdw36qx",
        "colab": {
          "base_uri": "https://localhost:8080/"
        },
        "outputId": "93ff22b1-5499-4da7-b9cf-f0f7501b9a0e"
      },
      "source": [
        "# Solution\n",
        "\n",
        "marks = np.array([65,84,47,56,89,98,48,77,80,39])\n",
        "marks\n",
        "\n",
        "record = {\n",
        "  'Marks': [65,84,47,56,89,98,48,77,80,39]}\n",
        "\n",
        "dataframe = pd.DataFrame(record, columns = ['Marks'])\n",
        "\n",
        "rslt_df = dataframe[dataframe['Marks'] > 50]\n",
        "\n",
        "print('\\n Result dataframe :\\n', rslt_df)\n",
        "\n",
        "print('\\n Number of students passed:  :', rslt_df.count())\n",
        "print('\\nNumber of students failed:  :', dataframe.count()-rslt_df.count())"
      ],
      "execution_count": 44,
      "outputs": [
        {
          "output_type": "stream",
          "name": "stdout",
          "text": [
            "\n",
            " Result dataframe :\n",
            "    Marks\n",
            "0     65\n",
            "1     84\n",
            "3     56\n",
            "4     89\n",
            "5     98\n",
            "7     77\n",
            "8     80\n",
            "\n",
            " Number of students passed:  : Marks    7\n",
            "dtype: int64\n",
            "\n",
            "Number of students failed:  : Marks    3\n",
            "dtype: int64\n"
          ]
        }
      ]
    },
    {
      "cell_type": "markdown",
      "metadata": {
        "id": "zkXvvW8-36qy"
      },
      "source": [
        "#### 23. The class incharge decided to give a mercy mark of 5 for those who scored between 45 and 49. Also the bonus of 5 marks awarded to the students who scored more than 80. Print all the student marks and compute the increase in the pass percentage of class. Any score more than 100 must be recorded as only 100."
      ]
    },
    {
      "cell_type": "code",
      "metadata": {
        "id": "FPXjWSwR36qy",
        "colab": {
          "base_uri": "https://localhost:8080/"
        },
        "outputId": "e6b6f583-004d-4f97-dfa7-54fbef1135f2"
      },
      "source": [
        "# Solution\n",
        "\n",
        "import numpy as np\n",
        "\n",
        "marks = np.array([65,84,47,56,89,98,48,77,80,39])\n",
        "print('student marks: ', marks)\n",
        "\n",
        "marks_final=marks\n",
        "\n",
        "marks1 = marks[(marks > 45) & (marks < 49)]\n",
        "print('student marks 45-49: ', marks1)\n",
        "\n",
        "marks2 = marks[marks > 80]\n",
        "print('student marks > 80: ', marks2)\n",
        "\n",
        "print('\\nResults follows:')\n",
        "marks1=marks1+5\n",
        "print('student marks 45-49 with bonus: ', marks1)\n",
        "marks2=marks2 + 5\n",
        "print('student marks with bonus > 80: ', marks2)\n",
        "\n",
        "marks2 = marks2 % 100\n",
        "print('Modulas', marks2)\n",
        "\n",
        "marks_final = np.where(((marks_final > 45) & (marks_final < 49) | (marks_final > 80)), marks_final+5, marks)\n",
        "marks_final = np.where((marks_final > 100), 100, marks_final)\n",
        "print('Final marks: ', marks_final)\n",
        "\n",
        "print('Pass percentage: ', (marks_final.sum())/(10))"
      ],
      "execution_count": 18,
      "outputs": [
        {
          "output_type": "stream",
          "name": "stdout",
          "text": [
            "student marks:  [65 84 47 56 89 98 48 77 80 39]\n",
            "student marks 45-49:  [47 48]\n",
            "student marks > 80:  [84 89 98]\n",
            "\n",
            "Results follows:\n",
            "student marks 45-49 with bonus:  [52 53]\n",
            "student marks with bonus > 80:  [ 89  94 103]\n",
            "Modulas [89 94  3]\n",
            "Final marks:  [ 65  89  52  56  94 100  53  77  80  39]\n",
            "Pass percentage:  70.5\n"
          ]
        }
      ]
    },
    {
      "cell_type": "markdown",
      "metadata": {
        "id": "6nWKVoPE36qz"
      },
      "source": [
        "#### 24. Print the time taken for performing the following operation using list and numpy array\n",
        "####       (x(i)^2 +8) / y(i),   where x and y are real integers from 1 to 60000"
      ]
    },
    {
      "cell_type": "code",
      "metadata": {
        "id": "6TEQD3HK36qz"
      },
      "source": [
        "# Solution\n",
        "\n",
        "# (x(i)^2 +8) / y(i)\n",
        "\n",
        "import timeit\n",
        "\n",
        "timeit.timeit()"
      ],
      "execution_count": 32,
      "outputs": []
    },
    {
      "cell_type": "markdown",
      "metadata": {
        "id": "ECwQ2Udb36q0"
      },
      "source": [
        "#### 25. Create a Github account and upload your solution with the short write-up on Numpy"
      ]
    },
    {
      "cell_type": "code",
      "metadata": {
        "id": "mD7n0Mrj36q0",
        "colab": {
          "base_uri": "https://localhost:8080/",
          "height": 131
        },
        "outputId": "5504584c-925a-4946-b789-c82984a46683"
      },
      "source": [
        "# Solution\n",
        "\n",
        "\n",
        "https://github.com/pthangaraj-stack/Lab_exercise1\n"
      ],
      "execution_count": 19,
      "outputs": [
        {
          "output_type": "error",
          "ename": "SyntaxError",
          "evalue": "ignored",
          "traceback": [
            "\u001b[0;36m  File \u001b[0;32m\"<ipython-input-19-cd04db01b92e>\"\u001b[0;36m, line \u001b[0;32m4\u001b[0m\n\u001b[0;31m    https://github.com/pthangaraj-stack/Lab_exercise1\u001b[0m\n\u001b[0m           ^\u001b[0m\n\u001b[0;31mSyntaxError\u001b[0m\u001b[0;31m:\u001b[0m invalid syntax\n"
          ]
        }
      ]
    }
  ]
}